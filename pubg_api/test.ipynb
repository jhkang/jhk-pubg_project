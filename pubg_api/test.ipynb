{
 "cells": [
  {
   "cell_type": "code",
   "execution_count": 1,
   "metadata": {},
   "outputs": [],
   "source": [
    "import pandas as pd\n",
    "import os\n",
    "from dotenv import load_dotenv\n",
    "from chicken_dinner.pubgapi import PUBG\n",
    "\n",
    "# RDS info (endpoint=\"rds 엔드포인트\", dbname=\"db 이름\", username=\"마스터 사용자 이름\", password=\"rds 비밀번호\")\n",
    "load_dotenv()\n",
    "api_key = os.environ.get(\"API_KEY\")\n",
    "endpoint = os.environ.get(\"AWS_endpoint\")\n",
    "dbname = os.environ.get('AWS_dbname')\n",
    "username = os.environ.get(\"AWS_username\")\n",
    "password = os.environ.get(\"AWS_password\")"
   ]
  },
  {
   "cell_type": "code",
   "execution_count": 2,
   "metadata": {},
   "outputs": [],
   "source": [
    "tournament_info = pd.read_csv(\"./DB/tournament_info.csv\")\n",
    "tournament_info.drop([\"Unnamed: 0\"], axis = 1, inplace = True)"
   ]
  },
  {
   "cell_type": "code",
   "execution_count": 3,
   "metadata": {},
   "outputs": [
    {
     "name": "stdout",
     "output_type": "stream",
     "text": [
      "eu-pcs6\n"
     ]
    }
   ],
   "source": [
    "idx = 0\n",
    "pubg = PUBG(api_key, \"pc-tournament\")\n",
    "tournaments = pubg.tournaments()\n",
    "tournament = tournaments[idx]\n",
    "current_tournament = tournament.response\n",
    "print(tournament_info[\"id\"][idx])"
   ]
  },
  {
   "cell_type": "code",
   "execution_count": 4,
   "metadata": {},
   "outputs": [
    {
     "data": {
      "text/plain": [
       "{'data': {'type': 'tournament',\n",
       "  'id': 'eu-pcs6',\n",
       "  'relationships': {'matches': {'data': [{'type': 'match',\n",
       "      'id': 'e9af4664-16ef-4cd8-8bdc-6ac20afde3ec'},\n",
       "     {'type': 'match', 'id': '37aaea8c-5b6d-49b2-a342-aff5eba75e95'},\n",
       "     {'type': 'match', 'id': '4334b4bb-3b44-4afe-9a4f-b6dbb77392ba'},\n",
       "     {'type': 'match', 'id': '867808f6-ebdf-42db-95fe-61b120f1eb6c'},\n",
       "     {'type': 'match', 'id': '8c1f6b52-d143-4085-8356-879a7a9490f9'},\n",
       "     {'type': 'match', 'id': 'bff839cc-8b81-47e4-9249-6f49f87835ea'},\n",
       "     {'type': 'match', 'id': 'cedf633b-5a62-417d-bd32-a44839e5d5da'},\n",
       "     {'type': 'match', 'id': 'a30d1554-4dcd-4459-9c97-76ae2323d518'},\n",
       "     {'type': 'match', 'id': '0835b094-d49e-4b9a-8234-86f08e8f4ce4'},\n",
       "     {'type': 'match', 'id': 'ee699b5d-d6a6-46fb-a1e2-b1e8f395a9c5'},\n",
       "     {'type': 'match', 'id': 'a3a1de84-259a-46c4-b9f8-ae0ac70c726d'},\n",
       "     {'type': 'match', 'id': '9e54b757-6a9b-456f-ad4f-c87aeb2e5a9a'},\n",
       "     {'type': 'match', 'id': 'e183604d-e8dd-4798-8163-3d5dee3f6ca4'},\n",
       "     {'type': 'match', 'id': '8a0ce267-2852-4cc0-89b6-a269981235e4'},\n",
       "     {'type': 'match', 'id': '04db9d39-6e6a-4be0-a836-4171ff9679d8'}]}}},\n",
       " 'included': [{'type': 'match',\n",
       "   'id': 'a30d1554-4dcd-4459-9c97-76ae2323d518',\n",
       "   'attributes': {'createdAt': '2022-04-30T18:09:05Z'}},\n",
       "  {'type': 'match',\n",
       "   'id': '0835b094-d49e-4b9a-8234-86f08e8f4ce4',\n",
       "   'attributes': {'createdAt': '2022-04-30T17:26:30Z'}},\n",
       "  {'type': 'match',\n",
       "   'id': 'a3a1de84-259a-46c4-b9f8-ae0ac70c726d',\n",
       "   'attributes': {'createdAt': '2022-04-29T19:43:42Z'}},\n",
       "  {'type': 'match',\n",
       "   'id': '9e54b757-6a9b-456f-ad4f-c87aeb2e5a9a',\n",
       "   'attributes': {'createdAt': '2022-04-29T18:58:23Z'}},\n",
       "  {'type': 'match',\n",
       "   'id': '867808f6-ebdf-42db-95fe-61b120f1eb6c',\n",
       "   'attributes': {'createdAt': '2022-05-01T17:27:47Z'}},\n",
       "  {'type': 'match',\n",
       "   'id': '8c1f6b52-d143-4085-8356-879a7a9490f9',\n",
       "   'attributes': {'createdAt': '2022-05-01T16:44:04Z'}},\n",
       "  {'type': 'match',\n",
       "   'id': '04db9d39-6e6a-4be0-a836-4171ff9679d8',\n",
       "   'attributes': {'createdAt': '2022-04-29T16:43:48Z'}},\n",
       "  {'type': 'match',\n",
       "   'id': 'bff839cc-8b81-47e4-9249-6f49f87835ea',\n",
       "   'attributes': {'createdAt': '2022-04-30T19:34:38Z'}},\n",
       "  {'type': 'match',\n",
       "   'id': 'ee699b5d-d6a6-46fb-a1e2-b1e8f395a9c5',\n",
       "   'attributes': {'createdAt': '2022-04-30T16:44:09Z'}},\n",
       "  {'type': 'match',\n",
       "   'id': 'cedf633b-5a62-417d-bd32-a44839e5d5da',\n",
       "   'attributes': {'createdAt': '2022-04-30T18:51:41Z'}},\n",
       "  {'type': 'match',\n",
       "   'id': 'e183604d-e8dd-4798-8163-3d5dee3f6ca4',\n",
       "   'attributes': {'createdAt': '2022-04-29T18:08:09Z'}},\n",
       "  {'type': 'match',\n",
       "   'id': '8a0ce267-2852-4cc0-89b6-a269981235e4',\n",
       "   'attributes': {'createdAt': '2022-04-29T17:26:10Z'}},\n",
       "  {'type': 'match',\n",
       "   'id': 'e9af4664-16ef-4cd8-8bdc-6ac20afde3ec',\n",
       "   'attributes': {'createdAt': '2022-05-01T19:43:58Z'}},\n",
       "  {'type': 'match',\n",
       "   'id': '4334b4bb-3b44-4afe-9a4f-b6dbb77392ba',\n",
       "   'attributes': {'createdAt': '2022-05-01T18:10:47Z'}},\n",
       "  {'type': 'match',\n",
       "   'id': '37aaea8c-5b6d-49b2-a342-aff5eba75e95',\n",
       "   'attributes': {'createdAt': '2022-05-01T18:56:08Z'}}],\n",
       " 'links': {'self': 'https://api.playbattlegrounds.com/tournaments/eu-pcs6'},\n",
       " 'meta': {}}"
      ]
     },
     "execution_count": 4,
     "metadata": {},
     "output_type": "execute_result"
    }
   ],
   "source": [
    "current_tournament"
   ]
  },
  {
   "cell_type": "code",
   "execution_count": 5,
   "metadata": {},
   "outputs": [],
   "source": [
    "# 해당 tournament_id의 모든 match_id와 created_at을 dict으로 출력\n",
    "matchId_dict = {match[\"attributes\"][\"createdAt\"]: match[\"id\"] for match in current_tournament[\"included\"]}\n",
    "\n",
    "# matchId_dict를 createdAt로 정렬 후 dataframe으로 변환\n",
    "match_info = pd.DataFrame(sorted(matchId_dict.items(), key=lambda x: x[0]), columns=[\"createdAt\", \"matchId\"])"
   ]
  }
 ],
 "metadata": {
  "interpreter": {
   "hash": "916dbcbb3f70747c44a77c7bcd40155683ae19c65e1c03b4aa3499c5328201f1"
  },
  "kernelspec": {
   "display_name": "Python 3.8.10 64-bit",
   "language": "python",
   "name": "python3"
  },
  "language_info": {
   "codemirror_mode": {
    "name": "ipython",
    "version": 3
   },
   "file_extension": ".py",
   "mimetype": "text/x-python",
   "name": "python",
   "nbconvert_exporter": "python",
   "pygments_lexer": "ipython3",
   "version": "3.8.10"
  },
  "orig_nbformat": 4
 },
 "nbformat": 4,
 "nbformat_minor": 2
}
