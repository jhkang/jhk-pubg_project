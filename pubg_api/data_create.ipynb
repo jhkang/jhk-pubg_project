{
 "cells": [
  {
   "cell_type": "code",
   "execution_count": 1,
   "metadata": {},
   "outputs": [],
   "source": [
    "import pandas as pd\n",
    "import os\n",
    "from dotenv import load_dotenv\n",
    "from sqlalchemy import create_engine\n",
    "from functions.pubgapi import get_tournament_info\n",
    "from functions.pubgapi import get_match_info\n",
    "from functions.pubgapi import get_match_participant\n",
    "from functions.pubgapi import get_match_participant_single\n",
    "from functions.pubgapi import check_missing_value\n",
    "\n",
    "# Load api key & RDS info (endpoint=\"rds 엔드포인트\", dbname=\"db 이름\", username=\"마스터 사용자 이름\", password=\"rds 비밀번호\")\n",
    "load_dotenv()\n",
    "api_key = os.environ.get(\"API_KEY\")\n",
    "endpoint = os.environ.get(\"AWS_endpoint\")\n",
    "dbname = os.environ.get('AWS_dbname')\n",
    "username = os.environ.get(\"AWS_username\")\n",
    "password = os.environ.get(\"AWS_password\")\n",
    "\n",
    "# DB connect\n",
    "\n",
    "# create_engine(\"mysql+pymysql://아이디:\"+\"암호\"+\"@주소:포트/데이터베이스이름?charset=utf8\", encoding='utf-8')\n",
    "engine = create_engine(\"mysql+pymysql://admin:\"+password+\"@\"+endpoint+\":3306/\"+dbname+\"?charset=utf8\", encoding=\"utf-8\")\n",
    "conn = engine.connect()"
   ]
  },
  {
   "cell_type": "code",
   "execution_count": 2,
   "metadata": {},
   "outputs": [
    {
     "name": "stdout",
     "output_type": "stream",
     "text": [
      "469 개의 tournament_id 조회 완료\n",
      "469 개의 tournament_id 저장 완료\n",
      "\n"
     ]
    }
   ],
   "source": [
    "# Tournament id 값 조회\n",
    "tournament_info = get_tournament_info(api_key)\n",
    "check_missing_value(\"tournament_info\",tournament_info)\n",
    "tournament_id = tournament_info[\"id\"]\n",
    "num_tournament = len(tournament_id)\n",
    "\n",
    "print(f\"{num_tournament} 개의 tournament_id 조회 완료\")\n",
    "\n",
    "# Tournament info 테이블 저장(local)\n",
    "tournament_info.to_csv(f\"./DB/tournament_info.csv\")\n",
    "\n",
    "# Tournament info 테이블 create\n",
    "tournament_info.to_sql(name=\"tournament_info\", con=conn, if_exists='replace', index=False)\n",
    "print(f\"{num_tournament} 개의 tournament_id 저장 완료\\n\")"
   ]
  },
  {
   "cell_type": "code",
   "execution_count": 4,
   "metadata": {},
   "outputs": [],
   "source": [
    "# 각 tournament 별 match 정보 조회\n",
    "for tournament_index in range(10,20):\n",
    "    cur_match_info = get_match_info(api_key, f\"{tournament_id[tournament_index]}\")\n",
    "    cur_match_info.insert(loc=0, column=\"tournament_id\", value=f\"{tournament_id[tournament_index]}\")\n",
    "\n",
    "    if os.path.isfile(\"./DB/match_info.csv\"):\n",
    "        match_info = pd.read_csv(f\"./DB/match_info.csv\")\n",
    "        match_info.drop([\"Unnamed: 0\"], axis = 1, inplace = True)\n",
    "        match_info = pd.concat([match_info, cur_match_info], ignore_index=True)\n",
    "        match_info.to_csv(f\"./DB/match_info.csv\")\n",
    "    else:\n",
    "        # 해당 경로에 match_info.csv 파일이 없으면, 파일 생성\n",
    "        cur_match_info.to_csv(f\"./DB/match_info.csv\")"
   ]
  },
  {
   "cell_type": "code",
   "execution_count": null,
   "metadata": {},
   "outputs": [],
   "source": [
    "# 각 tournament의 Match info 테이블 조회\n",
    "loading_bar = {0:'-', 1:'\\\\', 2:'|', 3:'/'}\n",
    "for tournament_index in range(0,9): #len(tournament_info[\"id\"])\n",
    "    # index 설정 및 해당 인덱스의 tournament_id 값 불러오기\n",
    "    tournament_name = tournament_info[\"id\"][tournament_index]\n",
    "    tournament_createdAt = tournament_info[\"createdAt\"][tournament_index]\n",
    "\n",
    "    # cur_match_info(현재 match info) 불러오기\n",
    "    cur_match_info = get_match_info(api_key, tournament_name)\n",
    "\n",
    "    # match_participant_single 불러오기\n",
    "    for match_index in range(len(cur_match_info[\"matchId\"])):\n",
    "        match_participant_single = get_match_participant_single(api_key, cur_match_info[\"matchId\"][match_index])\n",
    "        check_missing_value(cur_match_info[\"matchId\"][match_index], match_participant_single)\n",
    "\n",
    "        # Z-score normalization 수행\n",
    "        # data = z_normalization(match_participant_single)\n",
    "        data = match_participant_single\n",
    "\n",
    "        if os.path.isfile(\"./Data/Train_data/train_match_data.csv\"):\n",
    "            # 해당 경로에 train_match_data.csv 파일이 있으면, 현재 내용을 해당 파일에 추가\n",
    "            train_data = pd.read_csv(f\"./Data/Train_data/train_match_data.csv\")\n",
    "            train_data.drop([\"Unnamed: 0\"], axis = 1, inplace = True)\n",
    "            train_data = pd.concat([train_data, data], ignore_index=True)\n",
    "            train_data.to_csv(f\"./Data/Train_data/train_match_data.csv\")\n",
    "        else:\n",
    "            # 해당 경로에 train_match_data.csv 파일이 없으면, 파일 생성\n",
    "            data.to_csv(f\"./Data/Train_data/train_match_data.csv\")\n",
    "        print(f\"\\rLoading tournament data {loading_bar[match_index%4]}\", end=\"\")"
   ]
  },
  {
   "cell_type": "code",
   "execution_count": null,
   "metadata": {},
   "outputs": [],
   "source": [
    "# Save match_info to csv file\n",
    "for idx in range(0, 1):\n",
    "    # idx를 지정하여 해당 위치의 id값 출력\n",
    "    tournament_index_id = tournament_id[idx]\n",
    "    cur_match_info = get_match_info(api_key, tournament_index_id)\n",
    "    num_match = len(cur_match_info[\"matchId\"])\n",
    "\n",
    "    match_info_id = cur_match_info[\"matchId\"]\n",
    "    match_participant = get_match_participant(api_key, match_info_id)\n",
    "    match_participant.to_csv(f\"./Data/{tournament_index_id}_match_info.csv\")\n",
    "    print(f\"Tournament name {idx}: {tournament_index_id} ({num_match} matches)\")\n",
    "print(\"complete\")\n",
    "\n",
    "# Match participant 조회\n",
    "idx2 = 2\n",
    "match_info_id = cur_match_info[\"matchId\"]\n",
    "match_info_id_single = match_info_id[idx2]\n",
    "match_participant = get_match_participant_single(api_key, match_info_id_single)\n",
    "\n",
    "# AWS RDS에 테이블 create\n",
    "\n",
    "if match_participant[\"kills\"].sum() != 0:\n",
    "    # Kill 수의 합이 0인 경우 제외(연습게임으로 간주)\n",
    "    match_participant.to_sql(name=\"train_match_data\", con=conn, if_exists='append', index=False)\n",
    "\n",
    "# 업로드된 테이블 확인\n",
    "sql = \"SHOW TABLES;\"\n",
    "result = pd.read_sql(sql, conn)\n",
    "print(sql)\n",
    "\n",
    "# 내용 확인(SELECT *)\n",
    "sql = \"SELECT * FROM train_match_data;\"\n",
    "result1 = pd.read_sql(sql, conn)\n",
    "print(sql)\n",
    "\n",
    "# db접속 종료\n",
    "conn.close()"
   ]
  }
 ],
 "metadata": {
  "interpreter": {
   "hash": "916dbcbb3f70747c44a77c7bcd40155683ae19c65e1c03b4aa3499c5328201f1"
  },
  "kernelspec": {
   "display_name": "Python 3.8.10 64-bit",
   "language": "python",
   "name": "python3"
  },
  "language_info": {
   "codemirror_mode": {
    "name": "ipython",
    "version": 3
   },
   "file_extension": ".py",
   "mimetype": "text/x-python",
   "name": "python",
   "nbconvert_exporter": "python",
   "pygments_lexer": "ipython3",
   "version": "3.8.10"
  },
  "orig_nbformat": 4
 },
 "nbformat": 4,
 "nbformat_minor": 2
}
