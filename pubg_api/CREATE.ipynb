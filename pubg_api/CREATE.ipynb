{
 "cells": [
  {
   "cell_type": "code",
   "execution_count": null,
   "metadata": {},
   "outputs": [],
   "source": [
    "# Reference\n",
    "# https://yurimkoo.github.io/python/2019/09/14/connect-db-with-python.html\n",
    "\n",
    "import pandas as pd\n",
    "import requests\n",
    "import pymysql\n",
    "import os\n",
    "from dotenv import load_dotenv\n",
    "from sqlalchemy import create_engine\n",
    "from functions.pubgapi import get_tournament_info\n",
    "from functions.pubgapi import get_match_info\n",
    "from functions.pubgapi import get_match_participant_single\n",
    "\n",
    "# Load api key & RDS info (endpoint=\"rds 엔드포인트\", dbname=\"db 이름\", username=\"마스터 사용자 이름\", password=\"rds 비밀번호\")\n",
    "load_dotenv()\n",
    "api_key = os.environ.get(\"API_KEY\")\n",
    "endpoint = os.environ.get(\"AWS_endpoint\")\n",
    "dbname = os.environ.get('AWS_dbname')\n",
    "username = os.environ.get(\"AWS_username\")\n",
    "password = os.environ.get(\"AWS_password\")"
   ]
  },
  {
   "cell_type": "code",
   "execution_count": null,
   "metadata": {},
   "outputs": [],
   "source": [
    "# Tournament id 값 조회\n",
    "tournament_info = get_tournament_info(api_key)\n",
    "tournament_id = tournament_info[\"id\"]\n",
    "\n",
    "print(f\"{len(tournament_id)} 개의 tournament_id 조회 완료\\n\")\n",
    "\n",
    "# tournament_index를 지정하여 id값 출력\n",
    "idx1 = 0\n",
    "tournament_index_id = tournament_id[idx1]\n",
    "\n",
    "cur_match_info = get_match_info(api_key, tournament_index_id)\n",
    "num_match = len(cur_match_info[\"matchId\"])\n",
    "print(f\"Tournament name: {tournament_index_id} ({num_match} matches)\")\n",
    "\n",
    "# Match participant 조회\n",
    "idx2 = 2\n",
    "match_info_id = cur_match_info[\"matchId\"]\n",
    "match_info_id_single = match_info_id[idx2]\n",
    "match_participant = get_match_participant_single(api_key, match_info_id_single)\n",
    "match_participant"
   ]
  },
  {
   "cell_type": "code",
   "execution_count": null,
   "metadata": {},
   "outputs": [],
   "source": [
    "# Kill 수의 합이 0인 경우 제외(연습게임)\n",
    "if match_participant[\"kills\"].sum() != 0:\n",
    "    upload_table = match_participant\n",
    "    upload_table_name = f\"Match-{match_info_id_single}\""
   ]
  },
  {
   "cell_type": "code",
   "execution_count": null,
   "metadata": {},
   "outputs": [],
   "source": [
    "# DB와 connect\n",
    "# create_engine(\"mysql+pymysql://아이디:\"+\"암호\"+\"@주소:포트/데이터베이스이름?charset=utf8\", encoding='utf-8')\n",
    "engine = create_engine(\"mysql+pymysql://admin:\"+password+\"@\"+endpoint+\":3306/\"+dbname+\"?charset=utf8\", encoding=\"utf-8\")\n",
    "conn_create = engine.connect()\n",
    "\n",
    "conn = pymysql.connect(host=endpoint, user=username, password=password, db=dbname, charset='utf8', port=3306)\n",
    "cur = conn.cursor()"
   ]
  },
  {
   "cell_type": "code",
   "execution_count": null,
   "metadata": {},
   "outputs": [],
   "source": [
    "# AWS RDS에 테이블 create\n",
    "upload_table.to_sql(name=upload_table_name, con=conn_create, if_exists='replace', index=False)"
   ]
  },
  {
   "cell_type": "code",
   "execution_count": null,
   "metadata": {},
   "outputs": [],
   "source": [
    "# 업로드된 테이블 확인(SQL 사용)\n",
    "sql = f\"SHOW TABLES LIKE '{upload_table_name}';\"\n",
    "cur.execute(sql)\n",
    "result = cur.fetchall()\n",
    "print(\"SHOW TABLES: \\n\",result)"
   ]
  },
  {
   "cell_type": "code",
   "execution_count": null,
   "metadata": {},
   "outputs": [],
   "source": [
    "# 내용 확인(SELECT *)\n",
    "sql = f\"SELECT * FROM {upload_table_name};\"\n",
    "cur.execute(sql)\n",
    "result1 = cur.fetchall()\n",
    "result1 = pd.DataFrame(result1)\n",
    "print(\"\\ntournament_info(database):\\n\",result1)"
   ]
  },
  {
   "cell_type": "code",
   "execution_count": null,
   "metadata": {},
   "outputs": [],
   "source": [
    "conn.commit()\n",
    "\n",
    "# db접속 종료\n",
    "conn_create.close()\n",
    "conn.close()"
   ]
  }
 ],
 "metadata": {
  "interpreter": {
   "hash": "6b90570e05a57779220a99b6b0cf3766df4863f097f9d0d0e7cc1d35988b72a5"
  },
  "kernelspec": {
   "display_name": "Python 3.10.4 64-bit",
   "language": "python",
   "name": "python3"
  },
  "language_info": {
   "codemirror_mode": {
    "name": "ipython",
    "version": 3
   },
   "file_extension": ".py",
   "mimetype": "text/x-python",
   "name": "python",
   "nbconvert_exporter": "python",
   "pygments_lexer": "ipython3",
   "version": "3.10.4"
  },
  "orig_nbformat": 4
 },
 "nbformat": 4,
 "nbformat_minor": 2
}
