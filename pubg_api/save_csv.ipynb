{
 "cells": [
  {
   "cell_type": "code",
   "execution_count": 1,
   "metadata": {},
   "outputs": [
    {
     "name": "stdout",
     "output_type": "stream",
     "text": [
      "466 개의 tournament_id 조회 완료\n"
     ]
    }
   ],
   "source": [
    "# Reference\n",
    "# https://yurimkoo.github.io/python/2019/09/14/connect-db-with-python.html\n",
    "\n",
    "import pandas as pd\n",
    "import requests\n",
    "import pymysql\n",
    "import json\n",
    "import os\n",
    "from dotenv import load_dotenv\n",
    "from chicken_dinner.pubgapi import PUBG\n",
    "from functions.pubgapi import get_tournament_info\n",
    "from functions.pubgapi import get_match_info\n",
    "from functions.pubgapi import get_match_participant\n",
    "\n",
    "# Load api key & RDS info (endpoint=\"rds 엔드포인트\", dbname=\"db 이름\", username=\"마스터 사용자 이름\", password=\"rds 비밀번호\")\n",
    "load_dotenv()\n",
    "api_key = os.environ.get(\"API_KEY\")\n",
    "endpoint = os.environ.get(\"AWS_endpoint\")\n",
    "dbname = os.environ.get('AWS_dbname')\n",
    "username = os.environ.get(\"AWS_username\")\n",
    "password = os.environ.get(\"AWS_password\")\n",
    "\n",
    "# PUBG class를 토너먼트용 class로 custom\n",
    "PUBG_prime = PUBG(api_key=api_key, shard='pc-tournament', gzip=True)\n",
    "\n",
    "# Tournament id 값 조회\n",
    "tournament_info = get_tournament_info(api_key)\n",
    "tournament_id = tournament_info[\"id\"]\n",
    "\n",
    "print(f\"{len(tournament_id)} 개의 tournament_id 조회 완료\")"
   ]
  },
  {
   "cell_type": "code",
   "execution_count": 49,
   "metadata": {},
   "outputs": [
    {
     "name": "stdout",
     "output_type": "stream",
     "text": [
      "Tournament name 260: oc-ods20 (12 matches)\n",
      "Tournament name 261: eu-dhss2 (49 matches)\n",
      "Tournament name 262: sea-psms2 (44 matches)\n",
      "Tournament name 263: sea-pis3 (55 matches)\n",
      "Tournament name 264: eu-dachs20 (24 matches)\n",
      "Tournament name 265: sa-cpms3 (89 matches)\n",
      "Tournament name 266: oc-lp3pl (48 matches)\n",
      "Tournament name 267: as-pcs3kr (40 matches)\n",
      "Tournament name 268: eu-psl7 (68 matches)\n",
      "Tournament name 269: eu-pcs2gf (24 matches)\n",
      "complete\n"
     ]
    }
   ],
   "source": [
    "# Save match_info to csv file\n",
    "for idx in range(260, 270):\n",
    "    tournament_index_id = tournament_id[idx]\n",
    "    cur_match_info = get_match_info(api_key, tournament_index_id)\n",
    "    num_match = len(cur_match_info[\"matchId\"])\n",
    "\n",
    "    match_info_id = cur_match_info[\"matchId\"]\n",
    "    match_participant = get_match_participant(api_key, match_info_id)\n",
    "    match_participant.to_csv(f\"./Data/{tournament_index_id}_match_info.csv\")\n",
    "    print(f\"Tournament name {idx}: {tournament_index_id} ({num_match} matches)\")\n",
    "print(\"complete\")"
   ]
  }
 ],
 "metadata": {
  "interpreter": {
   "hash": "df2be83017ffa60c11c82c5d51fbb18e59643250bd8508e16ad28b543ad1299d"
  },
  "kernelspec": {
   "display_name": "Python 3.10.4 64-bit (windows store)",
   "language": "python",
   "name": "python3"
  },
  "language_info": {
   "codemirror_mode": {
    "name": "ipython",
    "version": 3
   },
   "file_extension": ".py",
   "mimetype": "text/x-python",
   "name": "python",
   "nbconvert_exporter": "python",
   "pygments_lexer": "ipython3",
   "version": "3.10.4"
  },
  "orig_nbformat": 4
 },
 "nbformat": 4,
 "nbformat_minor": 2
}
