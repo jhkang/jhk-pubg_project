{
 "cells": [
  {
   "cell_type": "code",
   "execution_count": 1,
   "metadata": {},
   "outputs": [],
   "source": [
    "import pandas as pd\n",
    "import requests\n",
    "import pymysql\n",
    "import os\n",
    "from dotenv import load_dotenv\n",
    "from sqlalchemy import create_engine\n",
    "from chicken_dinner.pubgapi import PUBG\n",
    "from functions.pubgapi import get_tournament_info\n",
    "from functions.pubgapi import get_match_info\n",
    "from functions.pubgapi import get_match_participant\n",
    "\n",
    "# Load api key & RDS info (endpoint=\"rds 엔드포인트\", dbname=\"db 이름\", username=\"마스터 사용자 이름\", password=\"rds 비밀번호\")\n",
    "load_dotenv()\n",
    "api_key = os.environ.get(\"API_KEY\")\n",
    "endpoint = os.environ.get(\"AWS_endpoint\")\n",
    "dbname = os.environ.get('AWS_dbname')\n",
    "username = os.environ.get(\"AWS_username\")\n",
    "password = os.environ.get(\"AWS_password\")"
   ]
  },
  {
   "cell_type": "markdown",
   "metadata": {},
   "source": [
    "### 데이터를 불러오는 과정은 아래와 같다."
   ]
  },
  {
   "cell_type": "code",
   "execution_count": 2,
   "metadata": {},
   "outputs": [],
   "source": [
    "# tournament_info\n",
    "tournament_info = get_tournament_info(api_key)\n",
    "\n",
    "# index 설정 및 해당 인덱스의 tournament_id 값 불러옴\n",
    "tournament_index = 10\n",
    "tournament_id = tournament_info[\"id\"][tournament_index]\n",
    "\n",
    "# cur_match_info(Current match info)\n",
    "cur_match_info = get_match_info(api_key, tournament_id)\n",
    "\n",
    "# match_participant\n",
    "match_participant = get_match_participant(api_key, cur_match_info[\"matchId\"])"
   ]
  }
 ],
 "metadata": {
  "interpreter": {
   "hash": "6b90570e05a57779220a99b6b0cf3766df4863f097f9d0d0e7cc1d35988b72a5"
  },
  "kernelspec": {
   "display_name": "Python 3.10.4 64-bit",
   "language": "python",
   "name": "python3"
  },
  "language_info": {
   "codemirror_mode": {
    "name": "ipython",
    "version": 3
   },
   "file_extension": ".py",
   "mimetype": "text/x-python",
   "name": "python",
   "nbconvert_exporter": "python",
   "pygments_lexer": "ipython3",
   "version": "3.10.4"
  },
  "orig_nbformat": 4
 },
 "nbformat": 4,
 "nbformat_minor": 2
}
