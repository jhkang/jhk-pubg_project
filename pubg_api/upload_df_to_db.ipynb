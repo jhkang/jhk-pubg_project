{
 "cells": [
  {
   "cell_type": "code",
   "execution_count": null,
   "metadata": {},
   "outputs": [],
   "source": [
    "# Reference\n",
    "# https://yurimkoo.github.io/python/2019/09/14/connect-db-with-python.html\n",
    "\n",
    "import pandas as pd\n",
    "import requests\n",
    "import pymysql\n",
    "import json\n",
    "import os\n",
    "from dotenv import load_dotenv\n",
    "from sqlalchemy import create_engine"
   ]
  },
  {
   "cell_type": "code",
   "execution_count": null,
   "metadata": {},
   "outputs": [],
   "source": [
    "# Load api key & RDS info (endpoint=\"rds 엔드포인트\", dbname=\"db 이름\", username=\"마스터 사용자 이름\", password=\"rds 비밀번호\")\n",
    "load_dotenv()\n",
    "api_key = os.environ.get(\"API_KEY\")\n",
    "endpoint = os.environ.get(\"AWS_endpoint\")\n",
    "dbname = os.environ.get('AWS_dbname')\n",
    "username = os.environ.get(\"AWS_username\")\n",
    "password = os.environ.get(\"AWS_password\")"
   ]
  },
  {
   "cell_type": "code",
   "execution_count": null,
   "metadata": {},
   "outputs": [],
   "source": [
    "# Get the list of available tournaments\n",
    "url = \"https://api.pubg.com/tournaments\"\n",
    "\n",
    "header = {\n",
    "  \"Authorization\": api_key,\n",
    "  \"Accept\": \"application/vnd.api+json\"\n",
    "}\n",
    "r = requests.get(url, headers=header)\n",
    "tournament_list = r.json()\n",
    "\n",
    "# Tournaments_id 값 추출\n",
    "tournament_id = pd.DataFrame(tournament_list[\"data\"])[\"id\"].values\n",
    "\n",
    "print(f\"{len(tournament_id)} 개의 tournament_id 조회 완료\\n\")\n",
    "print(f\"tournament_id 상위 5개 항목 조회 결과: {tournament_id[:5]}\")"
   ]
  },
  {
   "cell_type": "code",
   "execution_count": null,
   "metadata": {},
   "outputs": [],
   "source": [
    "from functions.pubgapi import get_match_info\n",
    "\n",
    "for i in range(len(tournament_id)):\n",
    "    cur_id = tournament_id[i]\n",
    "    cur_match_info = get_match_info(api_key, cur_id)"
   ]
  },
  {
   "cell_type": "code",
   "execution_count": null,
   "metadata": {},
   "outputs": [],
   "source": [
    "# tournament_id를 모두 불러와 각 id별 match_info 생성\n",
    "for val in tournament_id:\n",
    "\n",
    "  # 해당 tournament_id를 불러오기 위한 url 작성\n",
    "  url = f\"https://api.pubg.com/tournaments/{val}\"\n",
    "  header = {\"Authorization\": api_key, \"Accept\": \"application/vnd.api+json\", \"charset\": \"UTF-8\"}\n",
    "  \n",
    "  # requests.get 함수를 이용하여 tournament_list를 json으로 호출\n",
    "  r = requests.get(url, headers=header)\n",
    "  current_tournament = r.json()\n",
    "\n",
    "  # 모든 match_id와 created_at을 dict으로 출력\n",
    "  matchId_dict = {match['attributes']['createdAt']: match['id'] for match in current_tournament['included']}\n",
    "\n",
    "  # matchId_dict를 createdAt로 정렬 후 DataFrame으로 변환\n",
    "  cur_tournament_matchId_df = pd.DataFrame(sorted(matchId_dict.items(), key=lambda x: x[0]), columns=['createdAt', 'matchId'])"
   ]
  },
  {
   "cell_type": "code",
   "execution_count": null,
   "metadata": {},
   "outputs": [],
   "source": []
  }
 ],
 "metadata": {
  "interpreter": {
   "hash": "df2be83017ffa60c11c82c5d51fbb18e59643250bd8508e16ad28b543ad1299d"
  },
  "kernelspec": {
   "display_name": "Python 3.10.4 64-bit (windows store)",
   "language": "python",
   "name": "python3"
  },
  "language_info": {
   "codemirror_mode": {
    "name": "ipython",
    "version": 3
   },
   "file_extension": ".py",
   "mimetype": "text/x-python",
   "name": "python",
   "nbconvert_exporter": "python",
   "pygments_lexer": "ipython3",
   "version": "3.10.4"
  },
  "orig_nbformat": 4
 },
 "nbformat": 4,
 "nbformat_minor": 2
}
