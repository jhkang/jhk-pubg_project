{
 "cells": [
  {
   "cell_type": "code",
   "execution_count": 1,
   "metadata": {},
   "outputs": [],
   "source": [
    "# Reference\n",
    "# https://yurimkoo.github.io/python/2019/09/14/connect-db-with-python.html\n",
    "\n",
    "import pandas as pd\n",
    "import requests\n",
    "import pymysql\n",
    "import json\n",
    "import os\n",
    "from dotenv import load_dotenv\n",
    "from sqlalchemy import create_engine"
   ]
  },
  {
   "cell_type": "code",
   "execution_count": 2,
   "metadata": {},
   "outputs": [],
   "source": [
    "# Load api key & RDS info (endpoint=\"rds 엔드포인트\", dbname=\"db 이름\", username=\"마스터 사용자 이름\", password=\"rds 비밀번호\")\n",
    "load_dotenv()\n",
    "api_key = os.environ.get(\"API_KEY\")\n",
    "endpoint = os.environ.get(\"AWS_endpoint\")\n",
    "dbname = os.environ.get('AWS_dbname')\n",
    "username = os.environ.get(\"AWS_username\")\n",
    "password = os.environ.get(\"AWS_password\")"
   ]
  },
  {
   "cell_type": "code",
   "execution_count": 3,
   "metadata": {},
   "outputs": [
    {
     "name": "stdout",
     "output_type": "stream",
     "text": [
      "466 개의 tournament_id 조회 완료\n",
      "\n",
      "tournament_id 상위 5개 항목 조회 결과: ['eu-trt22' 'eu-goats22' 'as-apls1' 'eu-esapa' 'am-pcs6']\n"
     ]
    }
   ],
   "source": [
    "# Get the list of available tournaments\n",
    "url = \"https://api.pubg.com/tournaments\"\n",
    "\n",
    "header = {\n",
    "  \"Authorization\": api_key,\n",
    "  \"Accept\": \"application/vnd.api+json\"\n",
    "}\n",
    "r = requests.get(url, headers=header)\n",
    "tournament_list = r.json()\n",
    "\n",
    "# Tournaments_id 값 추출\n",
    "tournament_id = pd.DataFrame(tournament_list[\"data\"])[\"id\"].values\n",
    "\n",
    "print(f\"{len(tournament_id)} 개의 tournament_id 조회 완료\\n\")\n",
    "print(f\"tournament_id 상위 5개 항목 조회 결과: {tournament_id[:5]}\")"
   ]
  },
  {
   "cell_type": "code",
   "execution_count": 4,
   "metadata": {},
   "outputs": [
    {
     "ename": "JSONDecodeError",
     "evalue": "Expecting value: line 1 column 1 (char 0)",
     "output_type": "error",
     "traceback": [
      "\u001b[1;31m---------------------------------------------------------------------------\u001b[0m",
      "\u001b[1;31mJSONDecodeError\u001b[0m                           Traceback (most recent call last)",
      "\u001b[1;32mc:\\Users\\baibj\\Downloads\\jhk-pubg_project\\pubg_api\\upload_df_to_db.ipynb Cell 4'\u001b[0m in \u001b[0;36m<cell line: 3>\u001b[1;34m()\u001b[0m\n\u001b[0;32m      <a href='vscode-notebook-cell:/c%3A/Users/baibj/Downloads/jhk-pubg_project/pubg_api/upload_df_to_db.ipynb#ch0000003?line=0'>1</a>\u001b[0m \u001b[39mfrom\u001b[39;00m \u001b[39mfunctions\u001b[39;00m\u001b[39m.\u001b[39;00m\u001b[39mpubgapi\u001b[39;00m \u001b[39mimport\u001b[39;00m get_match_info2\n\u001b[0;32m      <a href='vscode-notebook-cell:/c%3A/Users/baibj/Downloads/jhk-pubg_project/pubg_api/upload_df_to_db.ipynb#ch0000003?line=2'>3</a>\u001b[0m \u001b[39mfor\u001b[39;00m val \u001b[39min\u001b[39;00m tournament_id:\n\u001b[1;32m----> <a href='vscode-notebook-cell:/c%3A/Users/baibj/Downloads/jhk-pubg_project/pubg_api/upload_df_to_db.ipynb#ch0000003?line=3'>4</a>\u001b[0m     cur_match_info \u001b[39m=\u001b[39m get_match_info2(api_key, val)\n",
      "File \u001b[1;32mc:\\Users\\baibj\\Downloads\\jhk-pubg_project\\pubg_api\\functions\\pubgapi.py:90\u001b[0m, in \u001b[0;36mget_match_info2\u001b[1;34m(api_key, tournament_id)\u001b[0m\n\u001b[0;32m     <a href='file:///c%3A/Users/baibj/Downloads/jhk-pubg_project/pubg_api/functions/pubgapi.py?line=87'>88</a>\u001b[0m \u001b[39m# tournament_list를 json으로 호출\u001b[39;00m\n\u001b[0;32m     <a href='file:///c%3A/Users/baibj/Downloads/jhk-pubg_project/pubg_api/functions/pubgapi.py?line=88'>89</a>\u001b[0m r \u001b[39m=\u001b[39m requests\u001b[39m.\u001b[39mget(url, headers\u001b[39m=\u001b[39mheader)\n\u001b[1;32m---> <a href='file:///c%3A/Users/baibj/Downloads/jhk-pubg_project/pubg_api/functions/pubgapi.py?line=89'>90</a>\u001b[0m current_tournament \u001b[39m=\u001b[39m json\u001b[39m.\u001b[39;49mloads(r\u001b[39m.\u001b[39;49mtext)\n\u001b[0;32m     <a href='file:///c%3A/Users/baibj/Downloads/jhk-pubg_project/pubg_api/functions/pubgapi.py?line=91'>92</a>\u001b[0m \u001b[39m# 모든 match_id와 created_at을 dict으로 출력\u001b[39;00m\n\u001b[0;32m     <a href='file:///c%3A/Users/baibj/Downloads/jhk-pubg_project/pubg_api/functions/pubgapi.py?line=92'>93</a>\u001b[0m matchId_dict \u001b[39m=\u001b[39m {match[\u001b[39m'\u001b[39m\u001b[39mattributes\u001b[39m\u001b[39m'\u001b[39m][\u001b[39m'\u001b[39m\u001b[39mcreatedAt\u001b[39m\u001b[39m'\u001b[39m]: match[\u001b[39m'\u001b[39m\u001b[39mid\u001b[39m\u001b[39m'\u001b[39m] \u001b[39mfor\u001b[39;00m match \u001b[39min\u001b[39;00m current_tournament[\u001b[39m'\u001b[39m\u001b[39mincluded\u001b[39m\u001b[39m'\u001b[39m]}\n",
      "File \u001b[1;32m~\\AppData\\Local\\Programs\\Python\\Python310\\lib\\json\\__init__.py:346\u001b[0m, in \u001b[0;36mloads\u001b[1;34m(s, cls, object_hook, parse_float, parse_int, parse_constant, object_pairs_hook, **kw)\u001b[0m\n\u001b[0;32m    <a href='file:///c%3A/Users/baibj/AppData/Local/Programs/Python/Python310/lib/json/__init__.py?line=340'>341</a>\u001b[0m     s \u001b[39m=\u001b[39m s\u001b[39m.\u001b[39mdecode(detect_encoding(s), \u001b[39m'\u001b[39m\u001b[39msurrogatepass\u001b[39m\u001b[39m'\u001b[39m)\n\u001b[0;32m    <a href='file:///c%3A/Users/baibj/AppData/Local/Programs/Python/Python310/lib/json/__init__.py?line=342'>343</a>\u001b[0m \u001b[39mif\u001b[39;00m (\u001b[39mcls\u001b[39m \u001b[39mis\u001b[39;00m \u001b[39mNone\u001b[39;00m \u001b[39mand\u001b[39;00m object_hook \u001b[39mis\u001b[39;00m \u001b[39mNone\u001b[39;00m \u001b[39mand\u001b[39;00m\n\u001b[0;32m    <a href='file:///c%3A/Users/baibj/AppData/Local/Programs/Python/Python310/lib/json/__init__.py?line=343'>344</a>\u001b[0m         parse_int \u001b[39mis\u001b[39;00m \u001b[39mNone\u001b[39;00m \u001b[39mand\u001b[39;00m parse_float \u001b[39mis\u001b[39;00m \u001b[39mNone\u001b[39;00m \u001b[39mand\u001b[39;00m\n\u001b[0;32m    <a href='file:///c%3A/Users/baibj/AppData/Local/Programs/Python/Python310/lib/json/__init__.py?line=344'>345</a>\u001b[0m         parse_constant \u001b[39mis\u001b[39;00m \u001b[39mNone\u001b[39;00m \u001b[39mand\u001b[39;00m object_pairs_hook \u001b[39mis\u001b[39;00m \u001b[39mNone\u001b[39;00m \u001b[39mand\u001b[39;00m \u001b[39mnot\u001b[39;00m kw):\n\u001b[1;32m--> <a href='file:///c%3A/Users/baibj/AppData/Local/Programs/Python/Python310/lib/json/__init__.py?line=345'>346</a>\u001b[0m     \u001b[39mreturn\u001b[39;00m _default_decoder\u001b[39m.\u001b[39;49mdecode(s)\n\u001b[0;32m    <a href='file:///c%3A/Users/baibj/AppData/Local/Programs/Python/Python310/lib/json/__init__.py?line=346'>347</a>\u001b[0m \u001b[39mif\u001b[39;00m \u001b[39mcls\u001b[39m \u001b[39mis\u001b[39;00m \u001b[39mNone\u001b[39;00m:\n\u001b[0;32m    <a href='file:///c%3A/Users/baibj/AppData/Local/Programs/Python/Python310/lib/json/__init__.py?line=347'>348</a>\u001b[0m     \u001b[39mcls\u001b[39m \u001b[39m=\u001b[39m JSONDecoder\n",
      "File \u001b[1;32m~\\AppData\\Local\\Programs\\Python\\Python310\\lib\\json\\decoder.py:337\u001b[0m, in \u001b[0;36mJSONDecoder.decode\u001b[1;34m(self, s, _w)\u001b[0m\n\u001b[0;32m    <a href='file:///c%3A/Users/baibj/AppData/Local/Programs/Python/Python310/lib/json/decoder.py?line=331'>332</a>\u001b[0m \u001b[39mdef\u001b[39;00m \u001b[39mdecode\u001b[39m(\u001b[39mself\u001b[39m, s, _w\u001b[39m=\u001b[39mWHITESPACE\u001b[39m.\u001b[39mmatch):\n\u001b[0;32m    <a href='file:///c%3A/Users/baibj/AppData/Local/Programs/Python/Python310/lib/json/decoder.py?line=332'>333</a>\u001b[0m     \u001b[39m\"\"\"Return the Python representation of ``s`` (a ``str`` instance\u001b[39;00m\n\u001b[0;32m    <a href='file:///c%3A/Users/baibj/AppData/Local/Programs/Python/Python310/lib/json/decoder.py?line=333'>334</a>\u001b[0m \u001b[39m    containing a JSON document).\u001b[39;00m\n\u001b[0;32m    <a href='file:///c%3A/Users/baibj/AppData/Local/Programs/Python/Python310/lib/json/decoder.py?line=334'>335</a>\u001b[0m \n\u001b[0;32m    <a href='file:///c%3A/Users/baibj/AppData/Local/Programs/Python/Python310/lib/json/decoder.py?line=335'>336</a>\u001b[0m \u001b[39m    \"\"\"\u001b[39;00m\n\u001b[1;32m--> <a href='file:///c%3A/Users/baibj/AppData/Local/Programs/Python/Python310/lib/json/decoder.py?line=336'>337</a>\u001b[0m     obj, end \u001b[39m=\u001b[39m \u001b[39mself\u001b[39;49m\u001b[39m.\u001b[39;49mraw_decode(s, idx\u001b[39m=\u001b[39;49m_w(s, \u001b[39m0\u001b[39;49m)\u001b[39m.\u001b[39;49mend())\n\u001b[0;32m    <a href='file:///c%3A/Users/baibj/AppData/Local/Programs/Python/Python310/lib/json/decoder.py?line=337'>338</a>\u001b[0m     end \u001b[39m=\u001b[39m _w(s, end)\u001b[39m.\u001b[39mend()\n\u001b[0;32m    <a href='file:///c%3A/Users/baibj/AppData/Local/Programs/Python/Python310/lib/json/decoder.py?line=338'>339</a>\u001b[0m     \u001b[39mif\u001b[39;00m end \u001b[39m!=\u001b[39m \u001b[39mlen\u001b[39m(s):\n",
      "File \u001b[1;32m~\\AppData\\Local\\Programs\\Python\\Python310\\lib\\json\\decoder.py:355\u001b[0m, in \u001b[0;36mJSONDecoder.raw_decode\u001b[1;34m(self, s, idx)\u001b[0m\n\u001b[0;32m    <a href='file:///c%3A/Users/baibj/AppData/Local/Programs/Python/Python310/lib/json/decoder.py?line=352'>353</a>\u001b[0m     obj, end \u001b[39m=\u001b[39m \u001b[39mself\u001b[39m\u001b[39m.\u001b[39mscan_once(s, idx)\n\u001b[0;32m    <a href='file:///c%3A/Users/baibj/AppData/Local/Programs/Python/Python310/lib/json/decoder.py?line=353'>354</a>\u001b[0m \u001b[39mexcept\u001b[39;00m \u001b[39mStopIteration\u001b[39;00m \u001b[39mas\u001b[39;00m err:\n\u001b[1;32m--> <a href='file:///c%3A/Users/baibj/AppData/Local/Programs/Python/Python310/lib/json/decoder.py?line=354'>355</a>\u001b[0m     \u001b[39mraise\u001b[39;00m JSONDecodeError(\u001b[39m\"\u001b[39m\u001b[39mExpecting value\u001b[39m\u001b[39m\"\u001b[39m, s, err\u001b[39m.\u001b[39mvalue) \u001b[39mfrom\u001b[39;00m \u001b[39mNone\u001b[39m\n\u001b[0;32m    <a href='file:///c%3A/Users/baibj/AppData/Local/Programs/Python/Python310/lib/json/decoder.py?line=355'>356</a>\u001b[0m \u001b[39mreturn\u001b[39;00m obj, end\n",
      "\u001b[1;31mJSONDecodeError\u001b[0m: Expecting value: line 1 column 1 (char 0)"
     ]
    }
   ],
   "source": [
    "from functions.pubgapi import get_match_info2\n",
    "\n",
    "for idx in range(tournament_id):\n",
    "    get_match_info2()\n",
    "\n",
    "    cur_match_info = get_match_info2(api_key, val)"
   ]
  },
  {
   "cell_type": "code",
   "execution_count": null,
   "metadata": {},
   "outputs": [],
   "source": [
    "# tournament_id를 모두 불러와 각 id별 match_info 생성\n",
    "for idx, val in enumerate(tournament_id):\n",
    "\n",
    "  # 진행 상황(20번마다 %로) 출력\n",
    "  if idx%20 == 0:\n",
    "    process_rate = round((idx+1)/len(tournament_id)*100, 1)\n",
    "    print(f\"Work in process : {process_rate}%\")\n",
    "\n",
    "  # 해당 tournament_id를 불러오기 위한 url 작성\n",
    "  url = f\"https://api.pubg.com/tournaments/{val}\"\n",
    "  print(url)\n",
    "  \n",
    "  # requests.get 함수를 이용하여 tournament_list를 json으로 호출\n",
    "  r = requests.get(url, headers=header)\n",
    "  current_tournament = r.json()\n",
    "\n",
    "  # 모든 match_id와 created_at을 dict으로 출력\n",
    "  matchId_dict = {match['attributes']['createdAt']: match['id'] for match in current_tournament['included']}\n",
    "\n",
    "  # matchId_dict를 createdAt로 정렬 후 DataFrame으로 변환\n",
    "  cur_tournament_matchId_df = pd.DataFrame(sorted(matchId_dict.items(), key=lambda x: x[0]), columns=['createdAt', 'matchId'])"
   ]
  },
  {
   "cell_type": "code",
   "execution_count": null,
   "metadata": {},
   "outputs": [],
   "source": [
    "# mariaDB와 connect\n",
    "conn = pymysql.connect(host=endpoint, user=username, passwd=password, database=dbname, port=3306, charset='utf8')\n",
    "cur = conn.cursor()\n",
    "\n",
    "# cur를 통해서 sql문을 주고 받는다.\n",
    "# cur.execute(\"INSERT ~~~\")\n",
    "\n",
    "# db접속 종료\n",
    "conn.close()"
   ]
  }
 ],
 "metadata": {
  "interpreter": {
   "hash": "df2be83017ffa60c11c82c5d51fbb18e59643250bd8508e16ad28b543ad1299d"
  },
  "kernelspec": {
   "display_name": "Python 3.10.4 64-bit (windows store)",
   "language": "python",
   "name": "python3"
  },
  "language_info": {
   "codemirror_mode": {
    "name": "ipython",
    "version": 3
   },
   "file_extension": ".py",
   "mimetype": "text/x-python",
   "name": "python",
   "nbconvert_exporter": "python",
   "pygments_lexer": "ipython3",
   "version": "3.10.4"
  },
  "orig_nbformat": 4
 },
 "nbformat": 4,
 "nbformat_minor": 2
}
