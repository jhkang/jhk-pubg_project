{
 "cells": [
  {
   "cell_type": "code",
   "execution_count": 2,
   "metadata": {},
   "outputs": [],
   "source": [
    "# Reference\n",
    "# https://0-sunny.tistory.com/45\n",
    "# https://leo-bb.tistory.com/26\n",
    "\n",
    "import pandas as pd\n",
    "import requests\n",
    "import pprint\n",
    "import json\n",
    "import pymysql\n",
    "import os\n",
    "from dotenv import load_dotenv"
   ]
  },
  {
   "cell_type": "code",
   "execution_count": 4,
   "metadata": {},
   "outputs": [],
   "source": [
    "# Load api key & RDS info (endpoint=\"rds 엔드포인트\", dbname=\"db 이름\", username=\"마스터 사용자 이름\", password=\"rds 비밀번호\")\n",
    "load_dotenv()\n",
    "api_key = os.environ.get(\"API_KEY\")\n",
    "endpoint = os.environ.get(\"AWS_endpoint\")\n",
    "dbname = os.environ.get('AWS_dbname')\n",
    "username = os.environ.get(\"AWS_username\")\n",
    "password = os.environ.get(\"AWS_password\")"
   ]
  },
  {
   "cell_type": "code",
   "execution_count": 62,
   "metadata": {},
   "outputs": [],
   "source": [
    "# Get the list of available tournaments\n",
    "url = \"https://api.pubg.com/tournaments\"\n",
    "\n",
    "header = {\n",
    "  \"Authorization\": api_key,\n",
    "  \"Accept\": \"application/vnd.api+json\"\n",
    "}\n",
    "r = requests.get(url, headers=header)\n",
    "tournament_list = r.json()\n",
    "\n",
    "# tournament_id, createdAt 값 추출\n",
    "tournament_id = []\n",
    "tournament_createdAt = []\n",
    "for i in range(len(tournament_list[\"data\"])):\n",
    "  temp_id = tournament_list[\"data\"][i][\"id\"]\n",
    "  temp_createdAt = tournament_list[\"data\"][i][\"attributes\"][\"createdAt\"]\n",
    "  tournament_id.append(temp_id)\n",
    "  tournament_createdAt.append(temp_createdAt)"
   ]
  },
  {
   "cell_type": "code",
   "execution_count": 68,
   "metadata": {},
   "outputs": [
    {
     "name": "stdout",
     "output_type": "stream",
     "text": [
      "             id             createdAt\n",
      "0    eu-goats22  2022-04-19T17:40:55Z\n",
      "1      as-apls1  2022-04-17T10:16:50Z\n",
      "2      eu-esapa  2022-04-16T16:38:55Z\n",
      "3       am-pcs6  2022-04-15T23:37:54Z\n",
      "4       ap-pcs6  2022-04-15T11:14:00Z\n",
      "..          ...                   ...\n",
      "460  kr-pss18s2  2018-06-17T03:40:44Z\n",
      "461  ct-mpl18s1  2018-06-15T09:29:17Z\n",
      "462  kr-apl18s2  2018-06-15T07:21:54Z\n",
      "463  jp-pjs18s1  2018-06-14T14:22:21Z\n",
      "464  kr-pwm18s1  2018-06-13T15:38:29Z\n",
      "\n",
      "[465 rows x 2 columns]\n"
     ]
    }
   ],
   "source": [
    "tournament_info = pd.DataFrame(tournament_id, columns=[\"id\"])\n",
    "tournament_info[\"createdAt\"] = tournament_createdAt\n",
    "print(tournament_info)"
   ]
  },
  {
   "cell_type": "code",
   "execution_count": null,
   "metadata": {},
   "outputs": [],
   "source": [
    "# mariaDB와 connect\n",
    "conn = pymysql.connect(host=endpoint, user=username, passwd=password, database=dbname, port=3306, charset='utf8')\n",
    "cur = conn.cursor()\n",
    "\n",
    "# cur를 통해서 sql문을 주고 받는다.\n",
    "# cur.execute(\"INSERT ~~~\")\n",
    "\n",
    "# db접속 종료\n",
    "conn.close()"
   ]
  },
  {
   "cell_type": "code",
   "execution_count": null,
   "metadata": {},
   "outputs": [],
   "source": [
    "# AWS RDS에 tournament_info 테이블 업로드하기"
   ]
  }
 ],
 "metadata": {
  "interpreter": {
   "hash": "6b90570e05a57779220a99b6b0cf3766df4863f097f9d0d0e7cc1d35988b72a5"
  },
  "kernelspec": {
   "display_name": "Python 3.10.4 64-bit",
   "language": "python",
   "name": "python3"
  },
  "language_info": {
   "codemirror_mode": {
    "name": "ipython",
    "version": 3
   },
   "file_extension": ".py",
   "mimetype": "text/x-python",
   "name": "python",
   "nbconvert_exporter": "python",
   "pygments_lexer": "ipython3",
   "version": "3.10.4"
  },
  "orig_nbformat": 4
 },
 "nbformat": 4,
 "nbformat_minor": 2
}
