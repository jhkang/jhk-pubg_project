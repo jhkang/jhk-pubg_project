{
 "cells": [
  {
   "cell_type": "code",
   "execution_count": 1,
   "metadata": {},
   "outputs": [],
   "source": [
    "# Reference\n",
    "# https://yurimkoo.github.io/python/2019/09/14/connect-db-with-python.html\n",
    "\n",
    "import pandas as pd\n",
    "import requests\n",
    "import pymysql\n",
    "import os\n",
    "from dotenv import load_dotenv\n",
    "from sqlalchemy import create_engine\n",
    "\n",
    "os.chdir(os.path.dirname(os.getcwd()))\n",
    "\n",
    "from functions.pubgapi import get_tournament_info\n",
    "from functions.pubgapi import get_match_info\n",
    "from functions.pubgapi import get_match_participant\n",
    "\n",
    "os.chdir(\"./Example\")\n",
    "\n",
    "# Load api key & RDS info (endpoint=\"rds 엔드포인트\", dbname=\"db 이름\", username=\"마스터 사용자 이름\", password=\"rds 비밀번호\")\n",
    "load_dotenv()\n",
    "api_key = os.environ.get(\"API_KEY\")\n",
    "endpoint = os.environ.get(\"AWS_endpoint\")\n",
    "dbname = os.environ.get('AWS_dbname')\n",
    "username = os.environ.get(\"AWS_username\")\n",
    "password = os.environ.get(\"AWS_password\")"
   ]
  },
  {
   "cell_type": "code",
   "execution_count": 2,
   "metadata": {},
   "outputs": [
    {
     "name": "stdout",
     "output_type": "stream",
     "text": [
      "tournament_info(dataframe):\n",
      "              id             createdAt\n",
      "0      eu-tgs22  2022-04-27T17:39:01Z\n",
      "1      eu-trt22  2022-04-22T15:48:35Z\n",
      "2    eu-goats22  2022-04-19T17:40:55Z\n",
      "3      as-apls1  2022-04-17T10:16:50Z\n",
      "4      eu-esapa  2022-04-16T16:38:55Z\n",
      "..          ...                   ...\n",
      "462  kr-pss18s2  2018-06-17T03:40:44Z\n",
      "463  ct-mpl18s1  2018-06-15T09:29:17Z\n",
      "464  kr-apl18s2  2018-06-15T07:21:54Z\n",
      "465  jp-pjs18s1  2018-06-14T14:22:21Z\n",
      "466  kr-pwm18s1  2018-06-13T15:38:29Z\n",
      "\n",
      "[467 rows x 2 columns]\n",
      "\n",
      "\n",
      "SHOW TABLES: \n",
      " (('123',), ('49634508-f42a-4c39-a696-360347083736',), ('tournament_info',)) \n",
      "\n",
      "\n",
      "\n",
      "tournament_info(database):\n",
      "               0                     1\n",
      "0      eu-tgs22  2022-04-27T17:39:01Z\n",
      "1      eu-trt22  2022-04-22T15:48:35Z\n",
      "2    eu-goats22  2022-04-19T17:40:55Z\n",
      "3      as-apls1  2022-04-17T10:16:50Z\n",
      "4      eu-esapa  2022-04-16T16:38:55Z\n",
      "..          ...                   ...\n",
      "462  kr-pss18s2  2018-06-17T03:40:44Z\n",
      "463  ct-mpl18s1  2018-06-15T09:29:17Z\n",
      "464  kr-apl18s2  2018-06-15T07:21:54Z\n",
      "465  jp-pjs18s1  2018-06-14T14:22:21Z\n",
      "466  kr-pwm18s1  2018-06-13T15:38:29Z\n",
      "\n",
      "[467 rows x 2 columns]\n"
     ]
    }
   ],
   "source": [
    "tournament_info = get_tournament_info(api_key)\n",
    "print(\"tournament_info(dataframe):\\n\",tournament_info)\n",
    "\n",
    "# DB와 connect\n",
    "# create_engine(\"mysql+pymysql://아이디:\"+\"암호\"+\"@주소:포트/데이터베이스이름?charset=utf8\", encoding='utf-8')\n",
    "engine = create_engine(\"mysql+pymysql://admin:\"+password+\"@\"+endpoint+\":3306/\"+dbname+\"?charset=utf8\", encoding=\"utf-8\")\n",
    "conn_create = engine.connect()\n",
    "\n",
    "# AWS RDS에 tournament_info 테이블 create\n",
    "tournament_info.to_sql(name='tournament_info', con=conn_create, if_exists='replace', index=False)\n",
    "conn_create.close()\n",
    "\n",
    "# DB connect\n",
    "conn = pymysql.connect(host=endpoint, user=username, password=password, db=dbname, charset='utf8', port=3306)\n",
    "cur = conn.cursor()\n",
    "\n",
    "# 업로드된 테이블 확인(SQL 사용)\n",
    "sql = \"SHOW TABLES\"\n",
    "cur.execute(sql)\n",
    "result = cur.fetchall()\n",
    "print(\"\\n\\nSHOW TABLES: \\n\",result,\"\\n\\n\")\n",
    "\n",
    "# 내용 확인(SELECT *)\n",
    "sql = \"SELECT * FROM tournament_info\"\n",
    "cur.execute(sql)\n",
    "result1 = cur.fetchall()\n",
    "result1 = pd.DataFrame(result1)\n",
    "print(\"\\ntournament_info(database):\\n\",result1)"
   ]
  },
  {
   "cell_type": "code",
   "execution_count": 3,
   "metadata": {},
   "outputs": [],
   "source": [
    "# Save tournament_info.csv\n",
    "# tournament_info.to_csv(\"./Data/tournament_info.csv\")\n",
    "\n",
    "conn.commit()\n",
    "\n",
    "# db접속 종료\n",
    "conn.close()"
   ]
  }
 ],
 "metadata": {
  "interpreter": {
   "hash": "6b90570e05a57779220a99b6b0cf3766df4863f097f9d0d0e7cc1d35988b72a5"
  },
  "kernelspec": {
   "display_name": "Python 3.10.4 64-bit",
   "language": "python",
   "name": "python3"
  },
  "language_info": {
   "codemirror_mode": {
    "name": "ipython",
    "version": 3
   },
   "file_extension": ".py",
   "mimetype": "text/x-python",
   "name": "python",
   "nbconvert_exporter": "python",
   "pygments_lexer": "ipython3",
   "version": "3.10.4"
  },
  "orig_nbformat": 4
 },
 "nbformat": 4,
 "nbformat_minor": 2
}
