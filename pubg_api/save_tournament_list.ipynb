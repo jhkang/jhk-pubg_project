{
 "cells": [
  {
   "cell_type": "code",
<<<<<<< HEAD
   "execution_count": 1,
=======
   "execution_count": 4,
>>>>>>> be4eefce6d76bd7b01248602662bed8c08c0b5d0
   "metadata": {},
   "outputs": [],
   "source": [
    "import requests\n",
    "import pprint\n",
    "import json\n",
    "import os \n",
    "from dotenv import load_dotenv\n",
    "\n",
    "load_dotenv()\n",
    "\n",
    "api_key = os.environ.get('API_KEY')"
   ]
  },
  {
   "cell_type": "code",
<<<<<<< HEAD
   "execution_count": 2,
=======
   "execution_count": 5,
>>>>>>> be4eefce6d76bd7b01248602662bed8c08c0b5d0
   "metadata": {},
   "outputs": [],
   "source": [
    "# Get the list of available tournaments\n",
    "url = \"https://api.pubg.com/tournaments\"\n",
    "\n",
    "header = {\n",
    "  \"Authorization\": api_key,\n",
    "  \"Accept\": \"application/vnd.api+json\"\n",
    "}\n",
    "r = requests.get(url, headers=header)\n",
    "tournament_list = r.json()\n",
<<<<<<< HEAD
=======
    "\n",
>>>>>>> be4eefce6d76bd7b01248602662bed8c08c0b5d0
    "# pprint.pprint(tournament_list)"
   ]
  },
  {
   "cell_type": "code",
<<<<<<< HEAD
   "execution_count": 3,
=======
   "execution_count": 6,
>>>>>>> be4eefce6d76bd7b01248602662bed8c08c0b5d0
   "metadata": {},
   "outputs": [],
   "source": [
    "# Save tournament_list.json file\n",
    "file_path = \"./tournament_list.json\"\n",
    "\n",
    "with open(file_path, 'w') as outfile:\n",
    "    json.dump(tournament_list, outfile)\n"
   ]
  }
 ],
 "metadata": {
  "interpreter": {
   "hash": "6b90570e05a57779220a99b6b0cf3766df4863f097f9d0d0e7cc1d35988b72a5"
  },
  "kernelspec": {
   "display_name": "Python 3.10.4 64-bit",
   "language": "python",
   "name": "python3"
  },
  "language_info": {
   "codemirror_mode": {
    "name": "ipython",
    "version": 3
   },
   "file_extension": ".py",
   "mimetype": "text/x-python",
   "name": "python",
   "nbconvert_exporter": "python",
   "pygments_lexer": "ipython3",
   "version": "3.10.4"
  },
  "orig_nbformat": 4
 },
 "nbformat": 4,
 "nbformat_minor": 2
}
